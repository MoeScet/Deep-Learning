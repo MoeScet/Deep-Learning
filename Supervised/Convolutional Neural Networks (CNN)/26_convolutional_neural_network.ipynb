{
 "cells": [
  {
   "cell_type": "markdown",
   "metadata": {
    "id": "3DR-eO17geWu"
   },
   "source": [
    "# Convolutional Neural Network"
   ]
  },
  {
   "cell_type": "markdown",
   "metadata": {
    "id": "EMefrVPCg-60"
   },
   "source": [
    "### Importing the libraries"
   ]
  },
  {
   "cell_type": "code",
   "execution_count": 1,
   "metadata": {
    "id": "hdnShjT2pX5G"
   },
   "outputs": [],
   "source": [
    "import tensorflow as tf\n",
    "from keras.preprocessing.image import ImageDataGenerator"
   ]
  },
  {
   "cell_type": "code",
   "execution_count": 2,
   "metadata": {
    "colab": {
     "base_uri": "https://localhost:8080/",
     "height": 35
    },
    "id": "vUI4fDiFpmzO",
    "outputId": "eae7201e-d024-4b81-9acf-f3fca81ae0e2"
   },
   "outputs": [
    {
     "data": {
      "text/plain": [
       "'2.4.0'"
      ]
     },
     "execution_count": 2,
     "metadata": {},
     "output_type": "execute_result"
    }
   ],
   "source": [
    "tf.__version__"
   ]
  },
  {
   "cell_type": "markdown",
   "metadata": {
    "id": "oxQxCBWyoGPE"
   },
   "source": [
    "## Part 1 - Data Preprocessing"
   ]
  },
  {
   "cell_type": "markdown",
   "metadata": {
    "id": "MvE-heJNo3GG"
   },
   "source": [
    "### Preprocessing the Training set"
   ]
  },
  {
   "cell_type": "code",
   "execution_count": 3,
   "metadata": {
    "id": "1_iC36vkq_Q7"
   },
   "outputs": [
    {
     "name": "stdout",
     "output_type": "stream",
     "text": [
      "Found 8000 images belonging to 2 classes.\n"
     ]
    }
   ],
   "source": [
    "train_datagen = ImageDataGenerator(\n",
    "        rescale=1./255,\n",
    "        shear_range=0.2,\n",
    "        zoom_range=0.2,\n",
    "        horizontal_flip=True)\n",
    "training_set = train_datagen.flow_from_directory(\n",
    "        'dataset/training_set',\n",
    "        target_size=(64, 64),\n",
    "        batch_size=32,\n",
    "        class_mode='binary')"
   ]
  },
  {
   "cell_type": "markdown",
   "metadata": {
    "id": "mrCMmGw9pHys"
   },
   "source": [
    "### Preprocessing the Test set"
   ]
  },
  {
   "cell_type": "code",
   "execution_count": 4,
   "metadata": {
    "id": "FGMT0y84vQoL"
   },
   "outputs": [
    {
     "name": "stdout",
     "output_type": "stream",
     "text": [
      "Found 2000 images belonging to 2 classes.\n"
     ]
    }
   ],
   "source": [
    "test_datagen = ImageDataGenerator(rescale=1./255)\n",
    "test_set = test_datagen.flow_from_directory(\n",
    "        'dataset/test_set',\n",
    "        target_size=(64, 64),\n",
    "        batch_size=32,\n",
    "        class_mode='binary')"
   ]
  },
  {
   "cell_type": "markdown",
   "metadata": {
    "id": "af8O4l90gk7B"
   },
   "source": [
    "## Part 2 - Building the CNN"
   ]
  },
  {
   "cell_type": "markdown",
   "metadata": {
    "id": "ces1gXY2lmoX"
   },
   "source": [
    "### Initialising the CNN"
   ]
  },
  {
   "cell_type": "code",
   "execution_count": 5,
   "metadata": {
    "id": "EpKn4yE9wdW4"
   },
   "outputs": [],
   "source": [
    "cnn = tf.keras.models.Sequential()"
   ]
  },
  {
   "cell_type": "markdown",
   "metadata": {
    "id": "u5YJj_XMl5LF"
   },
   "source": [
    "### Step 1 - Convolution"
   ]
  },
  {
   "cell_type": "code",
   "execution_count": 6,
   "metadata": {
    "id": "UtqucRMs3u3l"
   },
   "outputs": [],
   "source": [
    "cnn.add(tf.keras.layers.Conv2D(filters=32, kernel_size=3, activation='relu', input_shape=[64,64,3]))"
   ]
  },
  {
   "cell_type": "markdown",
   "metadata": {
    "id": "tf87FpvxmNOJ"
   },
   "source": [
    "### Step 2 - Pooling"
   ]
  },
  {
   "cell_type": "code",
   "execution_count": 7,
   "metadata": {
    "id": "ECqA5mxb48z3"
   },
   "outputs": [],
   "source": [
    "cnn.add(tf.keras.layers.MaxPool2D(pool_size= 2, strides= 2,))"
   ]
  },
  {
   "cell_type": "markdown",
   "metadata": {
    "id": "xaTOgD8rm4mU"
   },
   "source": [
    "### Adding a second convolutional layer"
   ]
  },
  {
   "cell_type": "code",
   "execution_count": 8,
   "metadata": {
    "id": "hK8Spj0o6mns"
   },
   "outputs": [],
   "source": [
    "cnn.add(tf.keras.layers.Conv2D(filters=32, kernel_size=3, activation='relu'))\n",
    "cnn.add(tf.keras.layers.MaxPool2D(pool_size= 2, strides= 2,))"
   ]
  },
  {
   "cell_type": "markdown",
   "metadata": {
    "id": "tmiEuvTunKfk"
   },
   "source": [
    "### Step 3 - Flattening"
   ]
  },
  {
   "cell_type": "code",
   "execution_count": 9,
   "metadata": {
    "id": "VUuVUVM4639v"
   },
   "outputs": [],
   "source": [
    "cnn.add(tf.keras.layers.Flatten())"
   ]
  },
  {
   "cell_type": "markdown",
   "metadata": {
    "id": "dAoSECOm203v"
   },
   "source": [
    "### Step 4 - Full Connection"
   ]
  },
  {
   "cell_type": "code",
   "execution_count": 10,
   "metadata": {
    "id": "_-sZYk4g71N9"
   },
   "outputs": [],
   "source": [
    "cnn.add(tf.keras.layers.Dense(units=128, activation='relu'))"
   ]
  },
  {
   "cell_type": "markdown",
   "metadata": {
    "id": "yTldFvbX28Na"
   },
   "source": [
    "### Step 5 - Output Layer"
   ]
  },
  {
   "cell_type": "code",
   "execution_count": 11,
   "metadata": {
    "id": "YUNEiFuE8db-"
   },
   "outputs": [],
   "source": [
    "cnn.add(tf.keras.layers.Dense(units=1, activation='sigmoid'))"
   ]
  },
  {
   "cell_type": "markdown",
   "metadata": {
    "id": "D6XkI90snSDl"
   },
   "source": [
    "## Part 3 - Training the CNN"
   ]
  },
  {
   "cell_type": "markdown",
   "metadata": {
    "id": "vfrFQACEnc6i"
   },
   "source": [
    "### Compiling the CNN"
   ]
  },
  {
   "cell_type": "code",
   "execution_count": 12,
   "metadata": {
    "id": "nEgl4WV2-QEL"
   },
   "outputs": [],
   "source": [
    "cnn.compile(optimizer='adam', loss='binary_crossentropy', metrics = ['accuracy'])"
   ]
  },
  {
   "cell_type": "markdown",
   "metadata": {
    "id": "ehS-v3MIpX2h"
   },
   "source": [
    "### Training the CNN on the Training set and evaluating it on the Test set"
   ]
  },
  {
   "cell_type": "code",
   "execution_count": 13,
   "metadata": {
    "id": "u_ThHn6DAnUQ"
   },
   "outputs": [
    {
     "name": "stdout",
     "output_type": "stream",
     "text": [
      "Epoch 1/25\n",
      "250/250 [==============================] - 83s 329ms/step - loss: 0.7072 - accuracy: 0.5208 - val_loss: 0.6468 - val_accuracy: 0.6275\n",
      "Epoch 2/25\n",
      "250/250 [==============================] - 36s 145ms/step - loss: 0.6596 - accuracy: 0.6118 - val_loss: 0.6256 - val_accuracy: 0.6585\n",
      "Epoch 3/25\n",
      "250/250 [==============================] - 39s 155ms/step - loss: 0.6132 - accuracy: 0.6670 - val_loss: 0.6078 - val_accuracy: 0.6840\n",
      "Epoch 4/25\n",
      "250/250 [==============================] - 37s 150ms/step - loss: 0.5660 - accuracy: 0.6988 - val_loss: 0.5288 - val_accuracy: 0.7420\n",
      "Epoch 5/25\n",
      "250/250 [==============================] - 36s 144ms/step - loss: 0.5437 - accuracy: 0.7263 - val_loss: 0.5439 - val_accuracy: 0.7460\n",
      "Epoch 6/25\n",
      "250/250 [==============================] - 36s 144ms/step - loss: 0.5119 - accuracy: 0.7446 - val_loss: 0.4987 - val_accuracy: 0.7570\n",
      "Epoch 7/25\n",
      "250/250 [==============================] - 36s 144ms/step - loss: 0.4960 - accuracy: 0.7595 - val_loss: 0.4999 - val_accuracy: 0.7715\n",
      "Epoch 8/25\n",
      "250/250 [==============================] - 36s 145ms/step - loss: 0.4649 - accuracy: 0.7757 - val_loss: 0.5030 - val_accuracy: 0.7655\n",
      "Epoch 9/25\n",
      "250/250 [==============================] - 36s 143ms/step - loss: 0.4553 - accuracy: 0.7803 - val_loss: 0.5949 - val_accuracy: 0.7180\n",
      "Epoch 10/25\n",
      "250/250 [==============================] - 36s 143ms/step - loss: 0.4376 - accuracy: 0.7917 - val_loss: 0.4908 - val_accuracy: 0.7750\n",
      "Epoch 11/25\n",
      "250/250 [==============================] - 36s 144ms/step - loss: 0.4240 - accuracy: 0.8001 - val_loss: 0.5017 - val_accuracy: 0.7660\n",
      "Epoch 12/25\n",
      "250/250 [==============================] - 36s 145ms/step - loss: 0.4063 - accuracy: 0.8136 - val_loss: 0.4952 - val_accuracy: 0.7675\n",
      "Epoch 13/25\n",
      "250/250 [==============================] - 36s 144ms/step - loss: 0.3933 - accuracy: 0.8168 - val_loss: 0.5091 - val_accuracy: 0.7670\n",
      "Epoch 14/25\n",
      "250/250 [==============================] - 36s 145ms/step - loss: 0.3793 - accuracy: 0.8289 - val_loss: 0.5138 - val_accuracy: 0.7830\n",
      "Epoch 15/25\n",
      "250/250 [==============================] - 36s 144ms/step - loss: 0.3743 - accuracy: 0.8309 - val_loss: 0.4830 - val_accuracy: 0.7875\n",
      "Epoch 16/25\n",
      "250/250 [==============================] - 35s 140ms/step - loss: 0.3441 - accuracy: 0.8436 - val_loss: 0.5561 - val_accuracy: 0.7770\n",
      "Epoch 17/25\n",
      "250/250 [==============================] - 35s 140ms/step - loss: 0.3326 - accuracy: 0.8546 - val_loss: 0.4719 - val_accuracy: 0.7955\n",
      "Epoch 18/25\n",
      "250/250 [==============================] - 36s 144ms/step - loss: 0.3242 - accuracy: 0.8542 - val_loss: 0.4894 - val_accuracy: 0.7900\n",
      "Epoch 19/25\n",
      "250/250 [==============================] - 35s 139ms/step - loss: 0.2899 - accuracy: 0.8745 - val_loss: 0.5127 - val_accuracy: 0.7835\n",
      "Epoch 20/25\n",
      "250/250 [==============================] - 34s 137ms/step - loss: 0.2863 - accuracy: 0.8808 - val_loss: 0.5296 - val_accuracy: 0.7920\n",
      "Epoch 21/25\n",
      "250/250 [==============================] - 37s 149ms/step - loss: 0.2646 - accuracy: 0.8901 - val_loss: 0.6015 - val_accuracy: 0.7760\n",
      "Epoch 22/25\n",
      "250/250 [==============================] - 36s 142ms/step - loss: 0.2535 - accuracy: 0.8967 - val_loss: 0.5500 - val_accuracy: 0.7865\n",
      "Epoch 23/25\n",
      "250/250 [==============================] - 34s 138ms/step - loss: 0.2515 - accuracy: 0.8987 - val_loss: 0.5420 - val_accuracy: 0.7980\n",
      "Epoch 24/25\n",
      "250/250 [==============================] - 34s 138ms/step - loss: 0.2277 - accuracy: 0.9071 - val_loss: 0.5577 - val_accuracy: 0.8015\n",
      "Epoch 25/25\n",
      "250/250 [==============================] - 35s 139ms/step - loss: 0.2097 - accuracy: 0.9164 - val_loss: 0.6168 - val_accuracy: 0.7845\n"
     ]
    },
    {
     "data": {
      "text/plain": [
       "<tensorflow.python.keras.callbacks.History at 0x25f2538ca90>"
      ]
     },
     "execution_count": 13,
     "metadata": {},
     "output_type": "execute_result"
    }
   ],
   "source": [
    "cnn.fit(x = training_set, validation_data = test_set, epochs = 25)"
   ]
  },
  {
   "cell_type": "markdown",
   "metadata": {
    "id": "U3PZasO0006Z"
   },
   "source": [
    "## Part 4 - Making a single prediction"
   ]
  },
  {
   "cell_type": "code",
   "execution_count": 27,
   "metadata": {
    "id": "IhGB7ZDuCN2T"
   },
   "outputs": [],
   "source": [
    "import numpy as np\n",
    "from keras.preprocessing import image\n",
    "test_image = image.load_img('dataset/single_prediction/cat_or_dog_4.jpg', target_size=(64, 64))\n",
    "test_image = image.img_to_array(test_image)\n",
    "test_image = np.expand_dims(test_image, axis = 0)\n",
    "result = cnn.predict(test_image)\n",
    "training_set.class_indices\n",
    "if result[0][0] == 1:\n",
    "  prediction = 'dog'\n",
    "else:\n",
    "  prediction = 'cat'\n"
   ]
  },
  {
   "cell_type": "code",
   "execution_count": 28,
   "metadata": {
    "id": "jtggRgJcFks9"
   },
   "outputs": [
    {
     "name": "stdout",
     "output_type": "stream",
     "text": [
      "cat\n"
     ]
    }
   ],
   "source": [
    "print(prediction)"
   ]
  },
  {
   "cell_type": "code",
   "execution_count": null,
   "metadata": {},
   "outputs": [],
   "source": []
  },
  {
   "cell_type": "code",
   "execution_count": null,
   "metadata": {},
   "outputs": [],
   "source": []
  }
 ],
 "metadata": {
  "colab": {
   "collapsed_sections": [],
   "name": "26 convolutional_neural_network.ipynb",
   "provenance": [],
   "toc_visible": true
  },
  "kernelspec": {
   "display_name": "Python 3",
   "language": "python",
   "name": "python3"
  },
  "language_info": {
   "codemirror_mode": {
    "name": "ipython",
    "version": 3
   },
   "file_extension": ".py",
   "mimetype": "text/x-python",
   "name": "python",
   "nbconvert_exporter": "python",
   "pygments_lexer": "ipython3",
   "version": "3.8.3"
  }
 },
 "nbformat": 4,
 "nbformat_minor": 1
}
