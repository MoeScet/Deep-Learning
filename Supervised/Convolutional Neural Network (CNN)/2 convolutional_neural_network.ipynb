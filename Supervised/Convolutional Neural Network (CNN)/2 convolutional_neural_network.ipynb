{
 "cells": [
  {
   "cell_type": "markdown",
   "metadata": {
    "id": "3DR-eO17geWu"
   },
   "source": [
    "# Convolutional Neural Network"
   ]
  },
  {
   "cell_type": "markdown",
   "metadata": {
    "id": "EMefrVPCg-60"
   },
   "source": [
    "### Importing the libraries"
   ]
  },
  {
   "cell_type": "code",
   "execution_count": 1,
   "metadata": {
    "executionInfo": {
     "elapsed": 3993,
     "status": "ok",
     "timestamp": 1617689788721,
     "user": {
      "displayName": "Thet Zin",
      "photoUrl": "https://lh3.googleusercontent.com/a-/AOh14GimM4Il8rHYJk0LfEv8ZHKNqCyPqO3gfULcYrv7XQ=s64",
      "userId": "02060294267645739060"
     },
     "user_tz": -480
    },
    "id": "h8ebLQ1Oz0uh"
   },
   "outputs": [],
   "source": [
    "import tensorflow as tf\n",
    "from keras.preprocessing.image import ImageDataGenerator"
   ]
  },
  {
   "cell_type": "code",
   "execution_count": 2,
   "metadata": {
    "colab": {
     "base_uri": "https://localhost:8080/",
     "height": 35
    },
    "executionInfo": {
     "elapsed": 1479,
     "status": "ok",
     "timestamp": 1617689792311,
     "user": {
      "displayName": "Thet Zin",
      "photoUrl": "https://lh3.googleusercontent.com/a-/AOh14GimM4Il8rHYJk0LfEv8ZHKNqCyPqO3gfULcYrv7XQ=s64",
      "userId": "02060294267645739060"
     },
     "user_tz": -480
    },
    "id": "_3AeZ0eo0sH-",
    "outputId": "2fab9a4d-6fce-4e3b-c671-31860d1eb7dd"
   },
   "outputs": [
    {
     "data": {
      "text/plain": [
       "'2.4.1'"
      ]
     },
     "execution_count": 2,
     "metadata": {},
     "output_type": "execute_result"
    }
   ],
   "source": [
    "tf.__version__"
   ]
  },
  {
   "cell_type": "markdown",
   "metadata": {
    "id": "oxQxCBWyoGPE"
   },
   "source": [
    "## Part 1 - Data Preprocessing"
   ]
  },
  {
   "cell_type": "markdown",
   "metadata": {
    "id": "MvE-heJNo3GG"
   },
   "source": [
    "### Preprocessing the Training set"
   ]
  },
  {
   "cell_type": "code",
   "execution_count": 3,
   "metadata": {
    "id": "DnMcFjYk5OsE"
   },
   "outputs": [
    {
     "name": "stdout",
     "output_type": "stream",
     "text": [
      "Found 8000 images belonging to 2 classes.\n"
     ]
    }
   ],
   "source": [
    "train_datagen = ImageDataGenerator(\n",
    "        rescale=1./255,\n",
    "        shear_range=0.2,\n",
    "        zoom_range=0.2,\n",
    "        horizontal_flip=True)\n",
    "training_set = train_datagen.flow_from_directory(\n",
    "        'dataset/training_set',\n",
    "        target_size=(64,64),\n",
    "        batch_size=32,\n",
    "        class_mode='binary')"
   ]
  },
  {
   "cell_type": "markdown",
   "metadata": {
    "id": "mrCMmGw9pHys"
   },
   "source": [
    "### Preprocessing the Test set"
   ]
  },
  {
   "cell_type": "code",
   "execution_count": 4,
   "metadata": {
    "id": "SxUl2FJt5PRz"
   },
   "outputs": [
    {
     "name": "stdout",
     "output_type": "stream",
     "text": [
      "Found 2000 images belonging to 2 classes.\n"
     ]
    }
   ],
   "source": [
    "test_datagen = ImageDataGenerator(rescale=1./255)\n",
    "test_set = test_datagen.flow_from_directory(\n",
    "        'dataset/test_set',\n",
    "        target_size=(64,64),\n",
    "        batch_size=32,\n",
    "        class_mode='binary')"
   ]
  },
  {
   "cell_type": "markdown",
   "metadata": {
    "id": "af8O4l90gk7B"
   },
   "source": [
    "## Part 2 - Building the CNN"
   ]
  },
  {
   "cell_type": "markdown",
   "metadata": {
    "id": "ces1gXY2lmoX"
   },
   "source": [
    "### Initialising the CNN"
   ]
  },
  {
   "cell_type": "code",
   "execution_count": 5,
   "metadata": {
    "id": "X2Aq6qCG9BRc"
   },
   "outputs": [],
   "source": [
    "cnn = tf.keras.models.Sequential()"
   ]
  },
  {
   "cell_type": "markdown",
   "metadata": {
    "id": "u5YJj_XMl5LF"
   },
   "source": [
    "### Step 1 - Convolution"
   ]
  },
  {
   "cell_type": "code",
   "execution_count": 6,
   "metadata": {
    "id": "8t__OGSr9U2x"
   },
   "outputs": [],
   "source": [
    "cnn.add(tf.keras.layers.Conv2D(filters = 32, kernel_size= 3, activation='relu', input_shape=(64,64,3)))"
   ]
  },
  {
   "cell_type": "markdown",
   "metadata": {
    "id": "tf87FpvxmNOJ"
   },
   "source": [
    "### Step 2 - Pooling"
   ]
  },
  {
   "cell_type": "code",
   "execution_count": 7,
   "metadata": {
    "id": "b30KcQi8-KwC"
   },
   "outputs": [],
   "source": [
    "cnn.add(tf.keras.layers.MaxPool2D(pool_size= 2, strides=2))"
   ]
  },
  {
   "cell_type": "markdown",
   "metadata": {
    "id": "xaTOgD8rm4mU"
   },
   "source": [
    "### Adding a second convolutional layer"
   ]
  },
  {
   "cell_type": "code",
   "execution_count": 8,
   "metadata": {
    "id": "hzDGCA2a_gu5"
   },
   "outputs": [],
   "source": [
    "cnn.add(tf.keras.layers.Conv2D(filters = 32, kernel_size= 3, activation='relu'))"
   ]
  },
  {
   "cell_type": "code",
   "execution_count": 9,
   "metadata": {
    "id": "mWdPYGXR_pCi"
   },
   "outputs": [],
   "source": [
    "cnn.add(tf.keras.layers.MaxPool2D(pool_size= 2, strides=2))"
   ]
  },
  {
   "cell_type": "markdown",
   "metadata": {
    "id": "tmiEuvTunKfk"
   },
   "source": [
    "### Step 3 - Flattening"
   ]
  },
  {
   "cell_type": "code",
   "execution_count": 10,
   "metadata": {
    "id": "Wl730AIV_5MY"
   },
   "outputs": [],
   "source": [
    "cnn.add(tf.keras.layers.Flatten())"
   ]
  },
  {
   "cell_type": "markdown",
   "metadata": {
    "id": "dAoSECOm203v"
   },
   "source": [
    "### Step 4 - Full Connection"
   ]
  },
  {
   "cell_type": "code",
   "execution_count": 11,
   "metadata": {
    "id": "j9Vwd3dQADDc"
   },
   "outputs": [],
   "source": [
    "cnn.add(tf.keras.layers.Dense(units=128, activation= 'relu'))"
   ]
  },
  {
   "cell_type": "markdown",
   "metadata": {
    "id": "yTldFvbX28Na"
   },
   "source": [
    "### Step 5 - Output Layer"
   ]
  },
  {
   "cell_type": "code",
   "execution_count": 12,
   "metadata": {
    "id": "Xudn0oQFAQl-"
   },
   "outputs": [],
   "source": [
    "cnn.add(tf.keras.layers.Dense(units=1, activation= 'sigmoid'))"
   ]
  },
  {
   "cell_type": "markdown",
   "metadata": {
    "id": "D6XkI90snSDl"
   },
   "source": [
    "## Part 3 - Training the CNN"
   ]
  },
  {
   "cell_type": "markdown",
   "metadata": {
    "id": "vfrFQACEnc6i"
   },
   "source": [
    "### Compiling the CNN"
   ]
  },
  {
   "cell_type": "code",
   "execution_count": 13,
   "metadata": {
    "id": "yGFPKmR7AZco"
   },
   "outputs": [],
   "source": [
    "cnn.compile(optimizer = 'adam', loss = 'binary_crossentropy', metrics = ['accuracy'])"
   ]
  },
  {
   "cell_type": "markdown",
   "metadata": {
    "id": "ehS-v3MIpX2h"
   },
   "source": [
    "### Training the CNN on the Training set and evaluating it on the Test set"
   ]
  },
  {
   "cell_type": "code",
   "execution_count": 15,
   "metadata": {
    "id": "bQRCIOMwBWuX"
   },
   "outputs": [
    {
     "name": "stdout",
     "output_type": "stream",
     "text": [
      "Epoch 1/25\n",
      "250/250 [==============================] - 51s 201ms/step - loss: 0.7110 - accuracy: 0.5211 - val_loss: 0.6602 - val_accuracy: 0.5690\n",
      "Epoch 2/25\n",
      "250/250 [==============================] - 41s 166ms/step - loss: 0.6351 - accuracy: 0.6329 - val_loss: 0.5865 - val_accuracy: 0.7005\n",
      "Epoch 3/25\n",
      "250/250 [==============================] - 42s 166ms/step - loss: 0.5787 - accuracy: 0.7006 - val_loss: 0.5370 - val_accuracy: 0.7305\n",
      "Epoch 4/25\n",
      "250/250 [==============================] - 40s 159ms/step - loss: 0.5391 - accuracy: 0.7273 - val_loss: 0.5201 - val_accuracy: 0.7530\n",
      "Epoch 5/25\n",
      "250/250 [==============================] - 39s 157ms/step - loss: 0.5188 - accuracy: 0.7457 - val_loss: 0.5662 - val_accuracy: 0.7160\n",
      "Epoch 6/25\n",
      "250/250 [==============================] - 39s 155ms/step - loss: 0.5022 - accuracy: 0.7526 - val_loss: 0.4945 - val_accuracy: 0.7630\n",
      "Epoch 7/25\n",
      "250/250 [==============================] - 40s 159ms/step - loss: 0.4742 - accuracy: 0.7712 - val_loss: 0.5060 - val_accuracy: 0.7490\n",
      "Epoch 8/25\n",
      "250/250 [==============================] - 40s 158ms/step - loss: 0.4564 - accuracy: 0.7886 - val_loss: 0.4601 - val_accuracy: 0.7975\n",
      "Epoch 9/25\n",
      "250/250 [==============================] - 40s 161ms/step - loss: 0.4384 - accuracy: 0.7976 - val_loss: 0.5046 - val_accuracy: 0.7825\n",
      "Epoch 10/25\n",
      "250/250 [==============================] - 40s 159ms/step - loss: 0.4359 - accuracy: 0.7941 - val_loss: 0.4647 - val_accuracy: 0.7940\n",
      "Epoch 11/25\n",
      "250/250 [==============================] - 41s 163ms/step - loss: 0.4095 - accuracy: 0.8118 - val_loss: 0.4428 - val_accuracy: 0.8025\n",
      "Epoch 12/25\n",
      "250/250 [==============================] - 41s 162ms/step - loss: 0.4055 - accuracy: 0.8109 - val_loss: 0.4655 - val_accuracy: 0.7935\n",
      "Epoch 13/25\n",
      "250/250 [==============================] - 42s 167ms/step - loss: 0.3859 - accuracy: 0.8248 - val_loss: 0.4579 - val_accuracy: 0.7920\n",
      "Epoch 14/25\n",
      "250/250 [==============================] - 39s 157ms/step - loss: 0.3768 - accuracy: 0.8326 - val_loss: 0.5410 - val_accuracy: 0.7695\n",
      "Epoch 15/25\n",
      "250/250 [==============================] - 40s 161ms/step - loss: 0.3821 - accuracy: 0.8178 - val_loss: 0.4736 - val_accuracy: 0.7950\n",
      "Epoch 16/25\n",
      "250/250 [==============================] - 38s 151ms/step - loss: 0.3531 - accuracy: 0.8389 - val_loss: 0.4679 - val_accuracy: 0.7855\n",
      "Epoch 17/25\n",
      "250/250 [==============================] - 40s 161ms/step - loss: 0.3390 - accuracy: 0.8493 - val_loss: 0.4510 - val_accuracy: 0.8080\n",
      "Epoch 18/25\n",
      "250/250 [==============================] - 41s 163ms/step - loss: 0.3176 - accuracy: 0.8633 - val_loss: 0.4527 - val_accuracy: 0.8040\n",
      "Epoch 19/25\n",
      "250/250 [==============================] - 40s 162ms/step - loss: 0.3334 - accuracy: 0.8594 - val_loss: 0.4581 - val_accuracy: 0.8055\n",
      "Epoch 20/25\n",
      "250/250 [==============================] - 41s 162ms/step - loss: 0.3147 - accuracy: 0.8601 - val_loss: 0.4424 - val_accuracy: 0.8025\n",
      "Epoch 21/25\n",
      "250/250 [==============================] - 41s 163ms/step - loss: 0.2935 - accuracy: 0.8738 - val_loss: 0.5078 - val_accuracy: 0.7955\n",
      "Epoch 22/25\n",
      "250/250 [==============================] - 41s 163ms/step - loss: 0.2847 - accuracy: 0.8769 - val_loss: 0.4872 - val_accuracy: 0.7995\n",
      "Epoch 23/25\n",
      "250/250 [==============================] - 40s 161ms/step - loss: 0.2780 - accuracy: 0.8787 - val_loss: 0.5073 - val_accuracy: 0.8030\n",
      "Epoch 24/25\n",
      "250/250 [==============================] - 41s 164ms/step - loss: 0.2691 - accuracy: 0.8867 - val_loss: 0.4924 - val_accuracy: 0.8080\n",
      "Epoch 25/25\n",
      "250/250 [==============================] - 41s 162ms/step - loss: 0.2481 - accuracy: 0.8933 - val_loss: 0.5432 - val_accuracy: 0.7825\n"
     ]
    },
    {
     "data": {
      "text/plain": [
       "<tensorflow.python.keras.callbacks.History at 0x2b4e4dfc700>"
      ]
     },
     "execution_count": 15,
     "metadata": {},
     "output_type": "execute_result"
    }
   ],
   "source": [
    "cnn.fit(x = training_set, validation_data = test_set, epochs = 25)"
   ]
  },
  {
   "cell_type": "markdown",
   "metadata": {
    "id": "U3PZasO0006Z"
   },
   "source": [
    "## Part 4 - Making a single prediction"
   ]
  },
  {
   "cell_type": "code",
   "execution_count": 24,
   "metadata": {},
   "outputs": [
    {
     "ename": "SyntaxError",
     "evalue": "invalid syntax (<ipython-input-24-67586030edb7>, line 8)",
     "output_type": "error",
     "traceback": [
      "\u001b[1;36m  File \u001b[1;32m\"<ipython-input-24-67586030edb7>\"\u001b[1;36m, line \u001b[1;32m8\u001b[0m\n\u001b[1;33m    if result[0][0] >0.5 1:\u001b[0m\n\u001b[1;37m                         ^\u001b[0m\n\u001b[1;31mSyntaxError\u001b[0m\u001b[1;31m:\u001b[0m invalid syntax\n"
     ]
    }
   ],
   "source": [
    "import numpy as np\n",
    "from keras.preprocessing import image\n",
    "test_image = image.load_img('dataset\\single_prediction\\cat_or_dog_1.jpg', target_size = (64,64))\n",
    "test_image = image.img_to_array(test_image)\n",
    "test_image = np.expand_dims(test_image, axis = 0)\n",
    "result = cnn.predict(test_image/255.0)\n",
    "training_set.class_indices\n",
    "if result[0][0] >0.5 1:\n",
    "  prediction = 'dog'\n",
    "else :\n",
    "  prediction = 'cat'"
   ]
  },
  {
   "cell_type": "code",
   "execution_count": 23,
   "metadata": {},
   "outputs": [
    {
     "name": "stdout",
     "output_type": "stream",
     "text": [
      "[[0.999804]]\n"
     ]
    }
   ],
   "source": [
    "print(prediction)"
   ]
  },
  {
   "cell_type": "code",
   "execution_count": null,
   "metadata": {},
   "outputs": [],
   "source": []
  }
 ],
 "metadata": {
  "colab": {
   "collapsed_sections": [],
   "name": "2 convolutional_neural_network.ipynb",
   "provenance": [
    {
     "file_id": "1Zermt7qeg9FrrOYoR2mfPQhMaY8fXrq_",
     "timestamp": 1617689456291
    },
    {
     "file_id": "1Y-a4g98w93GHswXLRLoiogvMYNPgzPE9",
     "timestamp": 1608203181165
    }
   ],
   "toc_visible": true
  },
  "kernelspec": {
   "display_name": "Python 3",
   "language": "python",
   "name": "python3"
  },
  "language_info": {
   "codemirror_mode": {
    "name": "ipython",
    "version": 3
   },
   "file_extension": ".py",
   "mimetype": "text/x-python",
   "name": "python",
   "nbconvert_exporter": "python",
   "pygments_lexer": "ipython3",
   "version": "3.8.5"
  }
 },
 "nbformat": 4,
 "nbformat_minor": 1
}
